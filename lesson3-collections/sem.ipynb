{
 "cells": [
  {
   "cell_type": "markdown",
   "id": "7531cf83",
   "metadata": {},
   "source": [
    "## Работа со списками\n",
    "\n",
    "Дана матрица 3х2, пример:\n",
    "```\n",
    "matrix = [\n",
    "    [1, 2],\n",
    "    [5, 6],\n",
    "    [9, 10],\n",
    "]\n",
    "```\n",
    "\n",
    "Необходимо написать функцию, которая будет её транспонировать, т.е. приводить к виду\n",
    "```\n",
    "matrix = [\n",
    "    [1, 5, 9],\n",
    "    [2, 6, 10],\n",
    "]\n",
    "```"
   ]
  },
  {
   "cell_type": "markdown",
   "id": "e9356ddf",
   "metadata": {},
   "source": [
    "## Работа со множествами\n",
    "\n",
    "Даны 2 множества, к примеру\n",
    "\n",
    "s1 = {1, 2, 3, 4, 5, 6, 7}\n",
    "и s2 = {5, 6, 7, 8, 9}\n",
    "\n",
    "Требуется:\n",
    "\n",
    "- найти уникальные элементы из обоих множеств\n",
    "- найти общие элементы для обоих множеств"
   ]
  },
  {
   "cell_type": "markdown",
   "id": "676546f5",
   "metadata": {},
   "source": [
    "## Работа со словарями\n",
    "\n",
    "Решите задачу со множествами через словари. \n",
    "\n",
    "Входные данные при этом пооступают в виде списков (все элементы уникальны), к примеру:\n",
    "\n",
    "s1 = [1, 2, 3, 4, 5, 6, 7]\n",
    "и s2 = [5, 6, 7, 8, 9]"
   ]
  },
  {
   "cell_type": "markdown",
   "id": "75b6e4a4",
   "metadata": {},
   "source": [
    "## Задачи\n",
    "\n",
    "#### Задача \"Рекомендации\"\n",
    "\n",
    "На вход:\n",
    "\n",
    "список recom_ids = [1, 2, 3]\n",
    "\n",
    "список seen_ids = [1, 4, 5]\n",
    "\n",
    "На выход:\n",
    "\n",
    "список filtered ?= [2, 3]\n",
    "\n",
    "Условия:\n",
    "1. надо составить новый список айдишников\n",
    "2. в том же порядке что recom_ids\n",
    "3. НЕ содержит seen_ids\n",
    "\n",
    "Заготовка:\n",
    "```python\n",
    "from typing import List\n",
    "\n",
    "def get_filtered(recom_ids: List[int], seen_ids: List[int]) -> List[int]:\n",
    "    filtered = []\n",
    "    # тут логика\n",
    "    return filtered\n",
    "```\n",
    "\n",
    "Требуется оценить алгоритмическую сложность поолученного решения"
   ]
  },
  {
   "cell_type": "code",
   "execution_count": 19,
   "id": "a4e0d6a9",
   "metadata": {},
   "outputs": [],
   "source": [
    "# внимательно прочитать условие\n",
    "# подобрать некоторые примеры, найти пограничные ситуации\n",
    "# recom_ids = [], seen_ids = [1, 2] -> []\n",
    "# recom_ids = [1, 2 , 3], seen_ids = [] -> [1, 2 , 3]\n",
    "# recom_ids = [3, 2, 1], seen_ids = [2] -> [3, 1]\n",
    "# написать самое простое, но рабочее решение. Не сдаём задачу, внимательно смотрим на оптимальность решения\n",
    "# находим что можно оптимизировать, оптимизируем\n",
    "# на каждом шаге решения в уме или в комментариях определяем вычислительную сложность\n",
    "from typing import List\n",
    "\n",
    "def get_filtered(recom_ids: List[int], seen_ids: List[int]) -> List[int]:\n",
    "    filtered = []  \n",
    "    for i in recom_ids:  # N\n",
    "        if i not in seen_ids:  # N\n",
    "            filtered.append(i)  # O(n**2)\n",
    "    return filtered\n",
    "\n",
    "# тут оптимизация\n",
    "def get_filtered(recom_ids: List[int], seen_ids: List[int]) -> List[int]:\n",
    "    filtered = []\n",
    "    seen_ids_set = set(seen_ids)\n",
    "    for i in recom_ids:  # N\n",
    "        if i not in seen_ids_set:  # 1\n",
    "            filtered.append(i)  # O(n)\n",
    "    return filtered"
   ]
  },
  {
   "cell_type": "code",
   "execution_count": 20,
   "id": "d8ae0ef3",
   "metadata": {},
   "outputs": [
    {
     "data": {
      "text/plain": [
       "True"
      ]
     },
     "execution_count": 20,
     "metadata": {},
     "output_type": "execute_result"
    }
   ],
   "source": [
    "test1 = get_filtered([], [1, 2]) == []\n",
    "test1"
   ]
  },
  {
   "cell_type": "code",
   "execution_count": 21,
   "id": "6b0965b4",
   "metadata": {},
   "outputs": [
    {
     "data": {
      "text/plain": [
       "True"
      ]
     },
     "execution_count": 21,
     "metadata": {},
     "output_type": "execute_result"
    }
   ],
   "source": [
    "test2 = get_filtered([1, 2 , 3], []) == [1, 2 , 3]\n",
    "test2"
   ]
  },
  {
   "cell_type": "code",
   "execution_count": 22,
   "id": "9d083b97",
   "metadata": {},
   "outputs": [
    {
     "data": {
      "text/plain": [
       "True"
      ]
     },
     "execution_count": 22,
     "metadata": {},
     "output_type": "execute_result"
    }
   ],
   "source": [
    "test3 = get_filtered([3, 2, 1], [2]) == [3, 1]\n",
    "test3"
   ]
  },
  {
   "cell_type": "markdown",
   "id": "07b4f396",
   "metadata": {},
   "source": [
    "#### Задача \"Поиск максимальных элементов в массиве\"\n",
    "\n",
    "Дан массив чисел `nums` и некоторое число `k`. Нужно написать функцию, которая достаёт `k` максимальных чисел из массива `nums`. k >= 0.\n",
    "\n",
    "nums = [1,2,3,2,5,7,1], k = 2 -> result = [7,5]\n",
    "\n",
    "nums = [1,2,3,3,3,3,3], k = 1 -> result = [3]\n",
    "\n",
    "nums = [1,1], k = 1 -> result = [1]\n",
    "\n",
    "Заготовка:\n",
    "```python\n",
    "from typing import List\n",
    "\n",
    "def get_top(nums: List[int], k: int):\n",
    "    top = []\n",
    "    # тут логика\n",
    "    return top\n",
    "```\n",
    "\n",
    "Требуется оценить алгоритмическую сложность полученного решения"
   ]
  },
  {
   "cell_type": "code",
   "execution_count": 41,
   "id": "0f4ef8c9",
   "metadata": {},
   "outputs": [],
   "source": [
    "from typing import List\n",
    "\n",
    "def get_top(nums: List[int], k: int):\n",
    "    top = sorted(nums, reverse=True)[:k]  # O(NlogN)\n",
    "    return top\n",
    "\n",
    "# а что если добавлено дополнительное ограничение k << n?\n",
    "# тогда - думаем сразу о желаемой сложности O(NK)\n",
    "def get_top(nums: List[int], k: int):\n",
    "    top = []\n",
    "    # пройтись k раз и найти максимальные элементы\n",
    "    for _ in range(k):\n",
    "        m = max(nums)\n",
    "        top.append(max(nums))\n",
    "        nums.remove(m)\n",
    "    return top"
   ]
  },
  {
   "cell_type": "code",
   "execution_count": 42,
   "id": "a43470f0",
   "metadata": {},
   "outputs": [
    {
     "data": {
      "text/plain": [
       "True"
      ]
     },
     "execution_count": 42,
     "metadata": {},
     "output_type": "execute_result"
    }
   ],
   "source": [
    "test1 = get_top([1,2,3,2,5,7,1], 2) == [7,5]\n",
    "test1"
   ]
  },
  {
   "cell_type": "code",
   "execution_count": 43,
   "id": "f33f43a6",
   "metadata": {},
   "outputs": [
    {
     "data": {
      "text/plain": [
       "True"
      ]
     },
     "execution_count": 43,
     "metadata": {},
     "output_type": "execute_result"
    }
   ],
   "source": [
    "test2 = get_top([3,1,2,3,3,3,3], 1) == [3]\n",
    "test2"
   ]
  },
  {
   "cell_type": "code",
   "execution_count": 44,
   "id": "06b587de",
   "metadata": {},
   "outputs": [
    {
     "data": {
      "text/plain": [
       "True"
      ]
     },
     "execution_count": 44,
     "metadata": {},
     "output_type": "execute_result"
    }
   ],
   "source": [
    "test3 = get_top([1,1], 1) == [1]\n",
    "test3"
   ]
  },
  {
   "cell_type": "markdown",
   "id": "f67f8dd9",
   "metadata": {},
   "source": [
    "#### Задача \"Поиск часто встречающихся элементов в массиве\"\n",
    "\n",
    "Дан массив чисел `nums` и некоторое число `k`. Нужно написать функцию, которая считает `k` самых частых чисел из массива `nums`. k >= 0.\n",
    "\n",
    "nums = [1,2,3,2,5,7,1], k = 2 -> result = [1,2]\n",
    "\n",
    "nums = [1,2,3,3,3,3,3], k = 1 -> result = [3]\n",
    "\n",
    "nums = [1,1], k = 1 -> result = [1]\n",
    "\n",
    "Заготовка:\n",
    "```python\n",
    "from typing import List\n",
    "\n",
    "def get_top(nums: List[int], k: int):\n",
    "    top = []\n",
    "    # тут логика\n",
    "    return top\n",
    "```\n",
    "\n",
    "Требуется оценить алгоритмическую сложность полученного решения"
   ]
  },
  {
   "cell_type": "code",
   "execution_count": null,
   "id": "1c822119",
   "metadata": {},
   "outputs": [],
   "source": []
  }
 ],
 "metadata": {
  "kernelspec": {
   "display_name": "Python 3 (ipykernel)",
   "language": "python",
   "name": "python3"
  },
  "language_info": {
   "codemirror_mode": {
    "name": "ipython",
    "version": 3
   },
   "file_extension": ".py",
   "mimetype": "text/x-python",
   "name": "python",
   "nbconvert_exporter": "python",
   "pygments_lexer": "ipython3",
   "version": "3.11.2"
  }
 },
 "nbformat": 4,
 "nbformat_minor": 5
}
